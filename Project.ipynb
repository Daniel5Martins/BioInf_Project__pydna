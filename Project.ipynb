{
 "cells": [
  {
   "cell_type": "markdown",
   "metadata": {},
   "source": [
    "Aim: Create a representation of a DNA construction\n",
    "    . Create outline\n",
    "    . Add features\n",
    "    . Associate info to features"
   ]
  },
  {
   "cell_type": "code",
   "execution_count": 1,
   "metadata": {
    "collapsed": true
   },
   "outputs": [],
   "source": [
    "import pydna"
   ]
  },
  {
   "cell_type": "code",
   "execution_count": 11,
   "metadata": {
    "collapsed": true
   },
   "outputs": [],
   "source": [
    "class MyCircle(object):\n",
    "\n",
    "    def __init__(self, center=(0.0,0.0), radius=200.0, color='blue'):\n",
    "        self.center = center\n",
    "        self.radius = radius\n",
    "        self.color = color\n",
    "        \n",
    "    def _repr_html_(self):\n",
    "        return \"&#x25CB; (<b>html</b>)\"\n",
    "\n",
    "    def _repr_svg_(self):\n",
    "        return \"\"\"<svg width=\"100px\" height=\"100px\">\n",
    "           <circle cx=\"50\" cy=\"50\" r=\"20\" stroke=\"black\" stroke-width=\"1\" fill=\"blue\"/>\n",
    "        </svg>\"\"\"\n",
    "    \n",
    "    def _repr_latex_(self):\n",
    "        return r\"$\\bigcirc \\LaTeX$\"\n",
    "\n",
    "    def _repr_javascript_(self):\n",
    "        from IPython.display import display_html\n",
    "        html='''<html>\n",
    "                  <head>Circle representation</head>\n",
    "                  <body>\n",
    "                    <canvas id='mycircle'></canvas>\n",
    "                  </body>\n",
    "               </html>'''\n",
    "        display_html(html, raw=True)\n",
    "        \n",
    "        js='''var radius = {};\n",
    "        var c = document.getElementById(\"mycircle\");\n",
    "        var ctx = c.getContext(\"2d\");\n",
    "        ctx.canvas.width  = radius*2+200;\n",
    "        ctx.canvas.height = radius*2+200;\n",
    "        ctx.beginPath();\n",
    "        ctx.lineWidth = 50;\n",
    "        ctx.arc(300, 300, radius, 0, (2/3)*Math.PI);\n",
    "        ctx.strokeStyle = \"red\";\n",
    "        ctx.stroke();\n",
    "        ctx.beginPath();\n",
    "        ctx.arc(300, 300, radius, (2/3)*Math.PI, (4/3) * Math.PI);\n",
    "        ctx.strokeStyle = \"blue\";\n",
    "        ctx.stroke();\n",
    "        ctx.beginPath();\n",
    "        ctx.arc(300, 300, radius, (4/3)*Math.PI, 2 * Math.PI);\n",
    "        ctx.strokeStyle = \"yellow\";\n",
    "        ctx.stroke()'''.format(self.radius)\n",
    "\n",
    "        return js"
   ]
  },
  {
   "cell_type": "code",
   "execution_count": 12,
   "metadata": {},
   "outputs": [
    {
     "data": {
      "text/html": [
       "<html>\n",
       "                  <head>Circle representation</head>\n",
       "                  <body>\n",
       "                    <canvas id='mycircle'></canvas>\n",
       "                  </body>\n",
       "               </html>"
      ]
     },
     "metadata": {},
     "output_type": "display_data"
    },
    {
     "data": {
      "application/javascript": [
       "var radius = 200;\n",
       "        var c = document.getElementById(\"mycircle\");\n",
       "        var ctx = c.getContext(\"2d\");\n",
       "        ctx.canvas.width  = radius*2+200;\n",
       "        ctx.canvas.height = radius*2+200;\n",
       "        ctx.beginPath();\n",
       "        ctx.lineWidth = 50;\n",
       "        ctx.arc(300, 300, radius, 0, (2/3)*Math.PI);\n",
       "        ctx.strokeStyle = \"red\";\n",
       "        ctx.stroke();\n",
       "        ctx.beginPath();\n",
       "        ctx.arc(300, 300, radius, (2/3)*Math.PI, (4/3) * Math.PI);\n",
       "        ctx.strokeStyle = \"blue\";\n",
       "        ctx.stroke();\n",
       "        ctx.beginPath();\n",
       "        ctx.arc(300, 300, radius, (4/3)*Math.PI, 2 * Math.PI);\n",
       "        ctx.strokeStyle = \"yellow\";\n",
       "        ctx.stroke()"
      ],
      "image/svg+xml": [
       "<svg width=\"100px\" height=\"100px\">\n",
       "           <circle cx=\"50\" cy=\"50\" r=\"20\" stroke=\"black\" stroke-width=\"1\" fill=\"blue\"/>\n",
       "        </svg>"
      ],
      "text/html": [
       "&#x25CB; (<b>html</b>)"
      ],
      "text/latex": [
       "$\\bigcirc \\LaTeX$"
      ],
      "text/plain": [
       "<__main__.MyCircle at 0x2327f8b6240>"
      ]
     },
     "execution_count": 12,
     "metadata": {},
     "output_type": "execute_result"
    }
   ],
   "source": [
    "mc = MyCircle(radius = 200)\n",
    "mc"
   ]
  },
  {
   "cell_type": "code",
   "execution_count": 12,
   "metadata": {
    "collapsed": true
   },
   "outputs": [],
   "source": [
    "class Box(object):\n",
    "\n",
    "    def __init__(self, center=(0.0,0.0), width = 500, heigth = 300, color='blue'):\n",
    "        self.center = center\n",
    "        self.color = color\n",
    "        self.width = width\n",
    "        self.heigth = heigth\n",
    "        \n",
    "    def _repr_html_(self):\n",
    "        return \"&#x25CB; (<b>html</b>)\"\n",
    "    \n",
    "    def _repr_javascript_(self):\n",
    "        from IPython.display import display_html\n",
    "        html='''<html>\n",
    "                  <head></head>\n",
    "                  <body>\n",
    "                    <canvas id='myRepr'></canvas>\n",
    "                  </body>\n",
    "               </html>'''\n",
    "        display_html(html, raw=True)\n",
    "        \n",
    "        js='''var R_width = {};\n",
    "        var R_heigth = {};\n",
    "        var c = document.getElementById(\"myRepr\");\n",
    "        var ctx = c.getContext(\"2d\");\n",
    "        ctx.canvas.width  = R_width+100;\n",
    "        ctx.canvas.height = R_heigth+100;\n",
    "        ctx.rect(50, 30, R_width, R_heigth);\n",
    "        ctx.lineWidth = 10;\n",
    "        ctx.strokeStyle = \"red\";\n",
    "        ctx.stroke()'''.format(self.width, self.heigth)\n",
    "\n",
    "        return js"
   ]
  },
  {
   "cell_type": "code",
   "execution_count": 13,
   "metadata": {},
   "outputs": [
    {
     "data": {
      "text/html": [
       "<html>\n",
       "                  <head></head>\n",
       "                  <body>\n",
       "                    <canvas id='myRepr'></canvas>\n",
       "                  </body>\n",
       "               </html>"
      ]
     },
     "metadata": {},
     "output_type": "display_data"
    },
    {
     "data": {
      "application/javascript": [
       "var R_width = 500;\n",
       "        var R_heigth = 300;\n",
       "        var c = document.getElementById(\"myRepr\");\n",
       "        var ctx = c.getContext(\"2d\");\n",
       "        ctx.canvas.width  = R_width+100;\n",
       "        ctx.canvas.height = R_heigth+100;\n",
       "        ctx.rect(50, 30, R_width, R_heigth);\n",
       "        ctx.lineWidth = 10;\n",
       "        ctx.strokeStyle = \"red\";\n",
       "        ctx.stroke()"
      ],
      "text/html": [
       "&#x25CB; (<b>html</b>)"
      ],
      "text/plain": [
       "<__main__.Box at 0x236accaddd8>"
      ]
     },
     "execution_count": 13,
     "metadata": {},
     "output_type": "execute_result"
    }
   ],
   "source": [
    "B = Box()\n",
    "B"
   ]
  },
  {
   "cell_type": "code",
   "execution_count": 14,
   "metadata": {
    "collapsed": true
   },
   "outputs": [],
   "source": [
    "class Box_and_lines(object):\n",
    "\n",
    "    def __init__(self, center=(0.0,0.0), width = 500, heigth = 300, color='blue'):\n",
    "        self.center = center\n",
    "        self.color = color\n",
    "        self.width = width\n",
    "        self.heigth = heigth\n",
    "        \n",
    "    def _repr_html_(self):\n",
    "        return \"&#x25CB; (<b>html</b>)\"\n",
    "    \n",
    "    def _repr_javascript_(self):\n",
    "        from IPython.display import display_html\n",
    "        html='''<html>\n",
    "                  <head></head>\n",
    "                  <body>\n",
    "                    <canvas id='myBL'></canvas>\n",
    "                  </body>\n",
    "               </html>'''\n",
    "        display_html(html, raw=True)\n",
    "        \n",
    "        js='''var R_width = {};\n",
    "        var R_heigth = {};\n",
    "        var c = document.getElementById(\"myBL\");\n",
    "        var ctx = c.getContext(\"2d\");\n",
    "        ctx.canvas.width  = R_width+100;\n",
    "        ctx.canvas.height = R_heigth+100;\n",
    "        ctx.beginPath();\n",
    "        ctx.moveTo(20,20);\n",
    "        ctx.lineTo(40,20);\n",
    "        ctx.moveTo(40,40);\n",
    "        ctx.lineTo(80,40);\n",
    "        ctx.strokeStyle=\"red\";\n",
    "        ctx.stroke()'''.format(self.width, self.heigth)\n",
    "\n",
    "        return js"
   ]
  },
  {
   "cell_type": "code",
   "execution_count": 15,
   "metadata": {},
   "outputs": [
    {
     "data": {
      "text/html": [
       "<html>\n",
       "                  <head></head>\n",
       "                  <body>\n",
       "                    <canvas id='myBL'></canvas>\n",
       "                  </body>\n",
       "               </html>"
      ]
     },
     "metadata": {},
     "output_type": "display_data"
    },
    {
     "data": {
      "application/javascript": [
       "var R_width = 500;\n",
       "        var R_heigth = 300;\n",
       "        var c = document.getElementById(\"myBL\");\n",
       "        var ctx = c.getContext(\"2d\");\n",
       "        ctx.canvas.width  = R_width+100;\n",
       "        ctx.canvas.height = R_heigth+100;\n",
       "        ctx.beginPath();\n",
       "        ctx.moveTo(20,20);\n",
       "        ctx.lineTo(40,20);\n",
       "        ctx.moveTo(40,40);\n",
       "        ctx.lineTo(80,40);\n",
       "        ctx.strokeStyle=\"red\";\n",
       "        ctx.stroke()"
      ],
      "text/html": [
       "&#x25CB; (<b>html</b>)"
      ],
      "text/plain": [
       "<__main__.Box_and_lines at 0x236acc81b00>"
      ]
     },
     "execution_count": 15,
     "metadata": {},
     "output_type": "execute_result"
    }
   ],
   "source": [
    "C = Box_and_lines()\n",
    "C"
   ]
  },
  {
   "cell_type": "markdown",
   "metadata": {},
   "source": [
    "Notes!!!"
   ]
  },
  {
   "cell_type": "code",
   "execution_count": null,
   "metadata": {
    "collapsed": true
   },
   "outputs": [],
   "source": [
    "js=\"\"\"function getMousePos(canvas, event) {\n",
    "\tvar rect = canvas.getBoundingClientRect();\n",
    "\treturn {\n",
    "\t\tx: event.clientX - rect.left,\n",
    "\t\ty: event.clientY - rect.top\n",
    "\t};\n",
    "}\n",
    "function isInside(pos, rect){\n",
    "\treturn pos.x > rect.x && pos.x < rect.x+rect.width && pos.y < rect.y+rect.heigth && pos.y > rect.y\n",
    "}\n",
    "\n",
    "var canvas = document.getElementById('myCanvas');\n",
    "var context = canvas.getContext('2d');\n",
    "var rect = {\n",
    "\tx:250,\n",
    "\ty:350,\n",
    "\twidth:200,\n",
    "\theigth:100\n",
    "};\n",
    "\n",
    "canvas.addEventListener('click', function(evt) {\n",
    "\tvar mousePos = getMousePos(canvas, evt);\n",
    "    debugger;\n",
    "\tif (isInside(mousePos,rect)) {\n",
    "\t\talert('clicked inside rect');\n",
    "    }else{\n",
    "        alert('clicked outside rect');\n",
    "    }\t\n",
    "}, false);\n",
    "\n",
    "context.beginPath();\n",
    "context.rect(250, 350, 200, 100); \n",
    "context.fillStyle = '#FFFFFF'; \n",
    "context.fillStyle = 'rgba(225,225,225,0.5)';\n",
    "context.fillRect(25,72,32,32);\n",
    "context.fill(); \n",
    "context.lineWidth = 2;\n",
    "context.strokeStyle = '#000000'; \n",
    "context.stroke();\n",
    "context.closePath();\n",
    "context.font = '40pt Kremlin Pro Web';\n",
    "context.fillStyle = '#000000';\n",
    "context.fillText('Start', 345, 415);\"\"\""
   ]
  }
 ],
 "metadata": {
  "anaconda-cloud": {},
  "kernelspec": {
   "display_name": "Python [Root]",
   "language": "python",
   "name": "Python [Root]"
  },
  "language_info": {
   "codemirror_mode": {
    "name": "ipython",
    "version": 3
   },
   "file_extension": ".py",
   "mimetype": "text/x-python",
   "name": "python",
   "nbconvert_exporter": "python",
   "pygments_lexer": "ipython3",
   "version": "3.5.2"
  }
 },
 "nbformat": 4,
 "nbformat_minor": 1
}
