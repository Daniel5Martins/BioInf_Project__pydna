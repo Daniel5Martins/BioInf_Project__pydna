{
 "cells": [
  {
   "cell_type": "markdown",
   "metadata": {
    "collapsed": true
   },
   "source": [
    "Aim: Create a representation of a DNA construction\n",
    "    . Create outline\n",
    "    . Add features\n",
    "    . Associate info to features"
   ]
  },
  {
   "cell_type": "markdown",
   "metadata": {},
   "source": [
    "To test the code in the future, it will be used an example that can be found on https://github.com/BjornFJohansson/pydna-examples/blob/master/assembly/assembly.ipynb"
   ]
  },
  {
   "cell_type": "code",
   "execution_count": 1,
   "metadata": {
    "collapsed": true
   },
   "outputs": [],
   "source": [
    "from pydna import *"
   ]
  },
  {
   "cell_type": "code",
   "execution_count": 40,
   "metadata": {},
   "outputs": [
    {
     "data": {
      "text/html": [
       "<pre> -|74bp_PCR_prod|61\n",
       "|                \\/\n",
       "|                /\\\n",
       "|                61|123bp_PCR_prod| 2\n",
       "|                                  \\/\n",
       "|                                  /\\\n",
       "|                                   2-\n",
       "|                                     |\n",
       " -------------------------------------</pre>"
      ],
      "text/plain": [
       "Contig(o134)"
      ]
     },
     "execution_count": 40,
     "metadata": {},
     "output_type": "execute_result"
    }
   ],
   "source": [
    "b  = Dseqrecord(\"agctactgactattaggggttattctgatcatctgatctactatctgactgtactgatcta\")\n",
    "l  = Dseqrecord(\"AGGCATCTACTG\")\n",
    "c  = Dseqrecord(\"tctgatctactatctgactgtactgatctattgacactgtgatcattctagtgtattactc\")\n",
    "(b+l+c).looped().cseguid()\n",
    "\n",
    "\n",
    "\n",
    "frags = assembly_fragments( (primer_design(b), l, primer_design(c), primer_design(b)), 1)\n",
    "\n",
    "b2 = pcr(frags[-1].forward_primer, frags[0].reverse_primer, b)\n",
    "\n",
    "asm2 = Assembly( (b2, frags[1]), limit=1, only_terminal_overlaps=True)\n",
    "\n",
    "asm2.circular_products[0]"
   ]
  },
  {
   "cell_type": "markdown",
   "metadata": {},
   "source": [
    "It will be tried a circular representation "
   ]
  },
  {
   "cell_type": "code",
   "execution_count": 3,
   "metadata": {
    "scrolled": true
   },
   "outputs": [],
   "source": [
    "class MyCircle(object):\n",
    "\n",
    "    def __init__(self, center=(0.0,0.0), radius=200.0, color='blue'):\n",
    "        self.center = center\n",
    "        self.radius = radius\n",
    "        self.color = color\n",
    "        \n",
    "    def _repr_html_(self):\n",
    "        return \"&#x25CB; (<b>html</b>)\"\n",
    "\n",
    "    def _repr_svg_(self):\n",
    "        return \"\"\"<svg width=\"100px\" height=\"100px\">\n",
    "           <circle cx=\"50\" cy=\"50\" r=\"20\" stroke=\"black\" stroke-width=\"1\" fill=\"blue\"/>\n",
    "        </svg>\"\"\"\n",
    "    \n",
    "    def _repr_latex_(self):\n",
    "        return r\"$\\bigcirc \\LaTeX$\"\n",
    "\n",
    "    def _repr_javascript_(self):\n",
    "        from IPython.display import display_html\n",
    "        html='''<html>\n",
    "                  <head>Circle representation</head>\n",
    "                  <body>\n",
    "                    <canvas id='mycircle'></canvas>\n",
    "                  </body>\n",
    "               </html>'''\n",
    "        display_html(html, raw=True)\n",
    "        \n",
    "        js='''var radius = {};\n",
    "        var c = document.getElementById(\"mycircle\");\n",
    "        var ctx = c.getContext(\"2d\");\n",
    "        ctx.canvas.width  = radius*2+200;\n",
    "        ctx.canvas.height = radius*2+200;\n",
    "        ctx.beginPath();\n",
    "        ctx.lineWidth = 50;\n",
    "        ctx.arc(300, 300, radius, 0, (2/3)*Math.PI);\n",
    "        ctx.strokeStyle = \"red\";\n",
    "        ctx.stroke();\n",
    "        ctx.beginPath();\n",
    "        ctx.arc(300, 300, radius, (2/3)*Math.PI, (4/3) * Math.PI);\n",
    "        ctx.strokeStyle = \"blue\";\n",
    "        ctx.stroke();\n",
    "        ctx.beginPath();\n",
    "        ctx.arc(300, 300, radius, (4/3)*Math.PI, 2 * Math.PI-0.01);\n",
    "        ctx.strokeStyle = \"yellow\";\n",
    "        ctx.stroke();\n",
    "        ctx.beginPath();\n",
    "        ctx.arc(300, 300, radius, 2 * Math.PI-0.01, 2 * Math.PI);\n",
    "        ctx.strokeStyle = \"green\";\n",
    "        ctx.stroke()'''.format(self.radius)\n",
    "\n",
    "        return js"
   ]
  },
  {
   "cell_type": "code",
   "execution_count": 4,
   "metadata": {
    "collapsed": true
   },
   "outputs": [
    {
     "data": {
      "text/html": [
       "<html>\n",
       "                  <head>Circle representation</head>\n",
       "                  <body>\n",
       "                    <canvas id='mycircle'></canvas>\n",
       "                  </body>\n",
       "               </html>"
      ]
     },
     "metadata": {},
     "output_type": "display_data"
    },
    {
     "data": {
      "application/javascript": [
       "var radius = 200;\n",
       "        var c = document.getElementById(\"mycircle\");\n",
       "        var ctx = c.getContext(\"2d\");\n",
       "        ctx.canvas.width  = radius*2+200;\n",
       "        ctx.canvas.height = radius*2+200;\n",
       "        ctx.beginPath();\n",
       "        ctx.lineWidth = 50;\n",
       "        ctx.arc(300, 300, radius, 0, (2/3)*Math.PI);\n",
       "        ctx.strokeStyle = \"red\";\n",
       "        ctx.stroke();\n",
       "        ctx.beginPath();\n",
       "        ctx.arc(300, 300, radius, (2/3)*Math.PI, (4/3) * Math.PI);\n",
       "        ctx.strokeStyle = \"blue\";\n",
       "        ctx.stroke();\n",
       "        ctx.beginPath();\n",
       "        ctx.arc(300, 300, radius, (4/3)*Math.PI, 2 * Math.PI-0.01);\n",
       "        ctx.strokeStyle = \"yellow\";\n",
       "        ctx.stroke();\n",
       "        ctx.beginPath();\n",
       "        ctx.arc(300, 300, radius, 2 * Math.PI-0.01, 2 * Math.PI);\n",
       "        ctx.strokeStyle = \"green\";\n",
       "        ctx.stroke()"
      ],
      "image/svg+xml": [
       "<svg width=\"100px\" height=\"100px\">\n",
       "           <circle cx=\"50\" cy=\"50\" r=\"20\" stroke=\"black\" stroke-width=\"1\" fill=\"blue\"/>\n",
       "        </svg>"
      ],
      "text/html": [
       "&#x25CB; (<b>html</b>)"
      ],
      "text/latex": [
       "$\\bigcirc \\LaTeX$"
      ],
      "text/plain": [
       "<__main__.MyCircle at 0x26859b85668>"
      ]
     },
     "execution_count": 4,
     "metadata": {},
     "output_type": "execute_result"
    }
   ],
   "source": [
    "mc = MyCircle(radius = 200)\n",
    "mc"
   ]
  },
  {
   "cell_type": "markdown",
   "metadata": {},
   "source": [
    "The smaller fragments can be hard to represent, cause in a circle proportions take an important role (green portion as example)"
   ]
  },
  {
   "cell_type": "code",
   "execution_count": 5,
   "metadata": {
    "collapsed": true
   },
   "outputs": [],
   "source": [
    "class Box(object):\n",
    "\n",
    "    def __init__(self, center=(0.0,0.0), width = 500, heigth = 300, color='blue'):\n",
    "        self.center = center\n",
    "        self.color = color\n",
    "        self.width = width\n",
    "        self.heigth = heigth\n",
    "        \n",
    "    def _repr_html_(self):\n",
    "        return \"&#x25CB; (<b>html</b>)\"\n",
    "    \n",
    "    def _repr_javascript_(self):\n",
    "        from IPython.display import display_html\n",
    "        html='''<html>\n",
    "                  <head></head>\n",
    "                  <body>\n",
    "                    <canvas id='myRepr'></canvas>\n",
    "                  </body>\n",
    "               </html>'''\n",
    "        display_html(html, raw=True)\n",
    "        \n",
    "        js='''var R_width = {};\n",
    "        var R_heigth = {};\n",
    "        var c = document.getElementById(\"myRepr\");\n",
    "        var ctx = c.getContext(\"2d\");\n",
    "        ctx.canvas.width  = R_width+100;\n",
    "        ctx.canvas.height = R_heigth+100;\n",
    "        ctx.rect(50, 30, R_width, R_heigth);\n",
    "        ctx.lineWidth = 10;\n",
    "        ctx.strokeStyle = \"red\";\n",
    "        ctx.stroke()'''.format(self.width, self.heigth)\n",
    "\n",
    "        return js"
   ]
  },
  {
   "cell_type": "code",
   "execution_count": 6,
   "metadata": {
    "collapsed": true
   },
   "outputs": [
    {
     "data": {
      "text/html": [
       "<html>\n",
       "                  <head></head>\n",
       "                  <body>\n",
       "                    <canvas id='myRepr'></canvas>\n",
       "                  </body>\n",
       "               </html>"
      ]
     },
     "metadata": {},
     "output_type": "display_data"
    },
    {
     "data": {
      "application/javascript": [
       "var R_width = 500;\n",
       "        var R_heigth = 300;\n",
       "        var c = document.getElementById(\"myRepr\");\n",
       "        var ctx = c.getContext(\"2d\");\n",
       "        ctx.canvas.width  = R_width+100;\n",
       "        ctx.canvas.height = R_heigth+100;\n",
       "        ctx.rect(50, 30, R_width, R_heigth);\n",
       "        ctx.lineWidth = 10;\n",
       "        ctx.strokeStyle = \"red\";\n",
       "        ctx.stroke()"
      ],
      "text/html": [
       "&#x25CB; (<b>html</b>)"
      ],
      "text/plain": [
       "<__main__.Box at 0x26859b8b550>"
      ]
     },
     "execution_count": 6,
     "metadata": {},
     "output_type": "execute_result"
    }
   ],
   "source": [
    "B = Box()\n",
    "B"
   ]
  },
  {
   "cell_type": "markdown",
   "metadata": {},
   "source": [
    "On a rectangle, proportions take a secondary role (visually) so the code will be developed to represent the construction in that structure.\n",
    "\n",
    "Although, with the method used above, the colors can't be used the way we want to use them"
   ]
  },
  {
   "cell_type": "markdown",
   "metadata": {},
   "source": [
    "The following code will draw a path organized on a rectangular structure, it will allow us to assign colors to each part of the construction and it will probably be easier to interact with them"
   ]
  },
  {
   "cell_type": "code",
   "execution_count": 35,
   "metadata": {
    "collapsed": true
   },
   "outputs": [],
   "source": [
    "class Box_and_lines(object):\n",
    "\n",
    "    def __init__(self, center=(0.0,0.0), width = 500, heigth = 200, color='blue'):\n",
    "        self.center = center\n",
    "        self.color = color\n",
    "        self.width = width\n",
    "        self.heigth = heigth\n",
    "        \n",
    "    def _repr_html_(self):\n",
    "        return \"&#x25CB; (<b>html</b>)\"\n",
    "    \n",
    "    def _repr_javascript_(self):\n",
    "        from IPython.display import display_html\n",
    "        html='''<html>\n",
    "                  <head></head>\n",
    "                  <body>\n",
    "                    <canvas id='myBL'></canvas>\n",
    "                  </body>\n",
    "               </html>'''\n",
    "        display_html(html, raw=True)\n",
    "        \n",
    "        js='''var R_width = {};\n",
    "        var R_heigth = {};\n",
    "        var c = document.getElementById(\"myBL\");\n",
    "        var ctx = c.getContext(\"2d\");\n",
    "        ctx.canvas.width  = R_width+100;\n",
    "        ctx.canvas.height = R_heigth+100;\n",
    "        ctx.beginPath();\n",
    "        ctx.moveTo(20,20);\n",
    "        ctx.lineWidth = 20;\n",
    "        ctx.lineTo(94,20);\n",
    "        ctx.strokeStyle = \"yellow\";\n",
    "        ctx.stroke();\n",
    "        ctx.beginPath();\n",
    "        ctx.moveTo(94,60);\n",
    "        ctx.lineTo(217,60);\n",
    "        ctx.strokeStyle=\"red\";\n",
    "        ctx.stroke()'''.format(self.width, self.heigth)\n",
    "\n",
    "        return js"
   ]
  },
  {
   "cell_type": "code",
   "execution_count": 36,
   "metadata": {
    "collapsed": true
   },
   "outputs": [
    {
     "data": {
      "text/html": [
       "<html>\n",
       "                  <head></head>\n",
       "                  <body>\n",
       "                    <canvas id='myBL'></canvas>\n",
       "                  </body>\n",
       "               </html>"
      ]
     },
     "metadata": {},
     "output_type": "display_data"
    },
    {
     "data": {
      "application/javascript": [
       "var R_width = 500;\n",
       "        var R_heigth = 200;\n",
       "        var c = document.getElementById(\"myBL\");\n",
       "        var ctx = c.getContext(\"2d\");\n",
       "        ctx.canvas.width  = R_width+100;\n",
       "        ctx.canvas.height = R_heigth+100;\n",
       "        ctx.beginPath();\n",
       "        ctx.moveTo(20,20);\n",
       "        ctx.lineWidth = 20;\n",
       "        ctx.lineTo(94,20);\n",
       "        ctx.strokeStyle = \"yellow\";\n",
       "        ctx.stroke();\n",
       "        ctx.beginPath();\n",
       "        ctx.moveTo(94,60);\n",
       "        ctx.lineTo(217,60);\n",
       "        ctx.strokeStyle=\"red\";\n",
       "        ctx.stroke()"
      ],
      "text/html": [
       "&#x25CB; (<b>html</b>)"
      ],
      "text/plain": [
       "<__main__.Box_and_lines at 0x26859b409e8>"
      ]
     },
     "execution_count": 36,
     "metadata": {},
     "output_type": "execute_result"
    }
   ],
   "source": [
    "C = Box_and_lines()\n",
    "C"
   ]
  },
  {
   "cell_type": "code",
   "execution_count": 152,
   "metadata": {},
   "outputs": [],
   "source": [
    "class Product_repr(object):\n",
    "\n",
    "    def __init__(self, product, width = 1000, heigth = 500):\n",
    "        self.prod = product\n",
    "        self.width = width\n",
    "        self.heigth = heigth\n",
    "        self.frag_list = product.source_fragments\n",
    "        self.frag_N = product.number_of_fragments\n",
    "        self.fragment_width = 175\n",
    "        self.fragment_heigth = 45\n",
    "        self.overlap_width = 35\n",
    "        \n",
    "    def _repr_html_(self):\n",
    "        return \"&#x25CB; (<b>html</b>)\"\n",
    "    \n",
    "    def _repr_javascript_(self):\n",
    "        from IPython.display import display_html\n",
    "        html='''<html>\n",
    "                  <head></head>\n",
    "                  <body>\n",
    "                    <canvas id='Prod'></canvas>\n",
    "                  </body>\n",
    "               </html>'''\n",
    "        display_html(html, raw=True)\n",
    "        \n",
    "        return self.get_js()\n",
    "    \n",
    "    def get_js(self):\n",
    "        begin_x = 65\n",
    "        middle_y = 80\n",
    "        delta_y = self.fragment_heigth + 10\n",
    "        end_x = begin_x + self.fragment_width\n",
    "        js = '''\n",
    "        var c = document.getElementById('Prod');\n",
    "        var ctx = c.getContext('2d');\n",
    "        ctx.canvas.width  = {W};\n",
    "        ctx.canvas.height = {H};\n",
    "        var start_x = {S};\n",
    "        var mid_y = {Y};\n",
    "        var delta_y = {D};\n",
    "        var end_x = {E};\n",
    "        var ovr = {O};\n",
    "        \n",
    "        ctx.beginPath();\n",
    "        ctx.moveTo(start_x, mid_y - delta_y);\n",
    "        ctx.lineWidth = {L};\n",
    "        ctx.lineTo(end_x, mid_y - delta_y);\n",
    "        ctx.strokeStyle = \"yellow\";\n",
    "        ctx.stroke();\n",
    "        ctx.beginPath();\n",
    "        ctx.moveTo(end_x, mid_y - delta_y);\n",
    "        ctx.lineTo(end_x + ovr, mid_y - delta_y);\n",
    "        ctx.strokeStyle = \"red\";\n",
    "        ctx.stroke();;\n",
    "        '''.format(W = self.width,\n",
    "                   H = self.heigth,\n",
    "                   S = begin_x,\n",
    "                   Y = middle_y,\n",
    "                   D = delta_y,\n",
    "                   E = end_x,\n",
    "                   O = self.overlap_width,\n",
    "                   L = self.fragment_heigth)\n",
    "        start_x = end_x + self.overlap_width\n",
    "        \n",
    "        for Frag in range(1, self.frag_N):\n",
    "            end_x = start_x + self.fragment_width\n",
    "            new_js='''\n",
    "            start_x = {s};\n",
    "            end_x = {e};\n",
    "            ctx.beginPath();\n",
    "            ctx.moveTo(start_x - ovr, mid_y -(Math.pow(-1,{n})*delta_y));\n",
    "            ctx.lineTo(start_x, mid_y -(Math.pow(-1,{n})*delta_y));\n",
    "            ctx.strokeStyle = \"red\";\n",
    "            ctx.stroke();\n",
    "            ctx.beginPath();\n",
    "            ctx.moveTo(start_x, mid_y -(Math.pow(-1,{n})*delta_y));\n",
    "            ctx.lineTo(end_x, mid_y -(Math.pow(-1,{n})*delta_y));\n",
    "            ctx.strokeStyle = \"yellow\";\n",
    "            ctx.stroke();\n",
    "            ctx.beginPath();\n",
    "            ctx.moveTo(end_x, mid_y -(Math.pow(-1,{n})*delta_y));\n",
    "            ctx.lineTo(end_x + ovr, mid_y -(Math.pow(-1,{n})*delta_y));\n",
    "            ctx.strokeStyle = \"red\";\n",
    "            ctx.stroke();\n",
    "            '''.format(s = start_x,\n",
    "                       e = end_x,\n",
    "                       n = Frag)\n",
    "            start_x = end_x + self.overlap_width\n",
    "            \n",
    "            js = js + new_js\n",
    "            \n",
    "        if not self.prod.linear:\n",
    "            js = js + '''\n",
    "            ctx.beginPath();\n",
    "            ctx.moveTo({s}, mid_y -(Math.pow(-1,{n})*delta_y));\n",
    "            ctx.lineWidth = ctx.lineWidth/5;\n",
    "            ctx.lineTo({s} + 20, mid_y -(Math.pow(-1,{n})*delta_y));\n",
    "            ctx.lineTo({s} + 20, mid_y -(Math.pow(-1,{n})*delta_y) + 250);\n",
    "            ctx.lineTo({b}-55, mid_y -(Math.pow(-1,{n})*delta_y) + 250);\n",
    "            ctx.lineTo({b}-55, mid_y - delta_y);\n",
    "            ctx.lineTo({b}-35, mid_y - delta_y);\n",
    "            ctx.strokeStyle = \"blue\";\n",
    "            ctx.stroke();\n",
    "            ctx.beginPath();\n",
    "            ctx.moveTo({b}-35, mid_y - delta_y);\n",
    "            ctx.lineTo({b}, mid_y - delta_y);\n",
    "            ctx.lineWidth = ctx.lineWidth*5;\n",
    "            ctx.strokeStyle = \"red\";\n",
    "            ctx.stroke();\n",
    "            '''.format(s = start_x,\n",
    "                       n = len(self.frag_list)-1,\n",
    "                       b = begin_x)\n",
    "                       \n",
    "            \n",
    "            \n",
    "        return js"
   ]
  },
  {
   "cell_type": "code",
   "execution_count": 153,
   "metadata": {},
   "outputs": [
    {
     "data": {
      "text/html": [
       "<html>\n",
       "                  <head></head>\n",
       "                  <body>\n",
       "                    <canvas id='Prod'></canvas>\n",
       "                  </body>\n",
       "               </html>"
      ]
     },
     "metadata": {},
     "output_type": "display_data"
    },
    {
     "data": {
      "application/javascript": [
       "\n",
       "        var c = document.getElementById('Prod');\n",
       "        var ctx = c.getContext('2d');\n",
       "        ctx.canvas.width  = 1000;\n",
       "        ctx.canvas.height = 500;\n",
       "        var start_x = 65;\n",
       "        var mid_y = 80;\n",
       "        var delta_y = 55;\n",
       "        var end_x = 240;\n",
       "        var ovr = 35;\n",
       "        \n",
       "        ctx.beginPath();\n",
       "        ctx.moveTo(start_x, mid_y - delta_y);\n",
       "        ctx.lineWidth = 45;\n",
       "        ctx.lineTo(end_x, mid_y - delta_y);\n",
       "        ctx.strokeStyle = \"yellow\";\n",
       "        ctx.stroke();\n",
       "        ctx.beginPath();\n",
       "        ctx.moveTo(end_x, mid_y - delta_y);\n",
       "        ctx.lineTo(end_x + ovr, mid_y - delta_y);\n",
       "        ctx.strokeStyle = \"red\";\n",
       "        ctx.stroke();;\n",
       "        \n",
       "            start_x = 275;\n",
       "            end_x = 450;\n",
       "            ctx.beginPath();\n",
       "            ctx.moveTo(start_x - ovr, mid_y -(Math.pow(-1,1)*delta_y));\n",
       "            ctx.lineTo(start_x, mid_y -(Math.pow(-1,1)*delta_y));\n",
       "            ctx.strokeStyle = \"red\";\n",
       "            ctx.stroke();\n",
       "            ctx.beginPath();\n",
       "            ctx.moveTo(start_x, mid_y -(Math.pow(-1,1)*delta_y));\n",
       "            ctx.lineTo(end_x, mid_y -(Math.pow(-1,1)*delta_y));\n",
       "            ctx.strokeStyle = \"yellow\";\n",
       "            ctx.stroke();\n",
       "            ctx.beginPath();\n",
       "            ctx.moveTo(end_x, mid_y -(Math.pow(-1,1)*delta_y));\n",
       "            ctx.lineTo(end_x + ovr, mid_y -(Math.pow(-1,1)*delta_y));\n",
       "            ctx.strokeStyle = \"red\";\n",
       "            ctx.stroke();\n",
       "            \n",
       "            ctx.beginPath();\n",
       "            ctx.moveTo(485, mid_y -(Math.pow(-1,1)*delta_y));\n",
       "            ctx.lineWidth = ctx.lineWidth/5;\n",
       "            ctx.lineTo(485 + 20, mid_y -(Math.pow(-1,1)*delta_y));\n",
       "            ctx.lineTo(485 + 20, mid_y -(Math.pow(-1,1)*delta_y) + 250);\n",
       "            ctx.lineTo(65-55, mid_y -(Math.pow(-1,1)*delta_y) + 250);\n",
       "            ctx.lineTo(65-55, mid_y - delta_y);\n",
       "            ctx.lineTo(65-35, mid_y - delta_y);\n",
       "            ctx.strokeStyle = \"blue\";\n",
       "            ctx.stroke();\n",
       "            ctx.beginPath();\n",
       "            ctx.moveTo(65-35, mid_y - delta_y);\n",
       "            ctx.lineTo(65, mid_y - delta_y);\n",
       "            ctx.lineWidth = ctx.lineWidth*5;\n",
       "            ctx.strokeStyle = \"red\";\n",
       "            ctx.stroke();\n",
       "            "
      ],
      "text/html": [
       "&#x25CB; (<b>html</b>)"
      ],
      "text/plain": [
       "<__main__.Product_repr at 0x26859acdf28>"
      ]
     },
     "execution_count": 153,
     "metadata": {},
     "output_type": "execute_result"
    }
   ],
   "source": [
    "D = Product_repr(asm2.circular_products[0])\n",
    "D"
   ]
  },
  {
   "cell_type": "markdown",
   "metadata": {},
   "source": [
    "Notes!!!"
   ]
  },
  {
   "cell_type": "code",
   "execution_count": null,
   "metadata": {
    "collapsed": true
   },
   "outputs": [],
   "source": [
    "js=\"\"\"function getMousePos(canvas, event) {\n",
    "\tvar rect = canvas.getBoundingClientRect();\n",
    "\treturn {\n",
    "\t\tx: event.clientX - rect.left,\n",
    "\t\ty: event.clientY - rect.top\n",
    "\t};\n",
    "}\n",
    "function isInside(pos, rect){\n",
    "\treturn pos.x > rect.x && pos.x < rect.x+rect.width && pos.y < rect.y+rect.heigth && pos.y > rect.y\n",
    "}\n",
    "\n",
    "var canvas = document.getElementById('myCanvas');\n",
    "var context = canvas.getContext('2d');\n",
    "var rect = {\n",
    "\tx:250,\n",
    "\ty:350,\n",
    "\twidth:200,\n",
    "\theigth:100\n",
    "};\n",
    "\n",
    "canvas.addEventListener('click', function(evt) {\n",
    "\tvar mousePos = getMousePos(canvas, evt);\n",
    "    debugger;\n",
    "\tif (isInside(mousePos,rect)) {\n",
    "\t\talert('clicked inside rect');\n",
    "    }else{\n",
    "        alert('clicked outside rect');\n",
    "    }\t\n",
    "}, false);\n",
    "\n",
    "context.beginPath();\n",
    "context.rect(250, 350, 200, 100); \n",
    "context.fillStyle = '#FFFFFF'; \n",
    "context.fillStyle = 'rgba(225,225,225,0.5)';\n",
    "context.fillRect(25,72,32,32);\n",
    "context.fill(); \n",
    "context.lineWidth = 2;\n",
    "context.strokeStyle = '#000000'; \n",
    "context.stroke();\n",
    "context.closePath();\n",
    "context.font = '40pt Kremlin Pro Web';\n",
    "context.fillStyle = '#000000';\n",
    "context.fillText('Start', 345, 415);\"\"\""
   ]
  }
 ],
 "metadata": {
  "anaconda-cloud": {},
  "kernelspec": {
   "display_name": "Python [Root]",
   "language": "python",
   "name": "Python [Root]"
  },
  "language_info": {
   "codemirror_mode": {
    "name": "ipython",
    "version": 3
   },
   "file_extension": ".py",
   "mimetype": "text/x-python",
   "name": "python",
   "nbconvert_exporter": "python",
   "pygments_lexer": "ipython3",
   "version": "3.5.2"
  }
 },
 "nbformat": 4,
 "nbformat_minor": 1
}
